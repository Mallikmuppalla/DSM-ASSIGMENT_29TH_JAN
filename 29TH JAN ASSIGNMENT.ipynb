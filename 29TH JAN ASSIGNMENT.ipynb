{
 "cells": [
  {
   "cell_type": "markdown",
   "id": "f148135d",
   "metadata": {},
   "source": [
    "# 29TH JAN ASSIGNMENT\n",
    "\n",
    "### NAME:MALLIKHARJUNA RAO MUPPALLA"
   ]
  },
  {
   "cell_type": "code",
   "execution_count": 3,
   "id": "5957d7ac",
   "metadata": {},
   "outputs": [],
   "source": [
    "#1.WHO DEVELOPED PYTHON PROGRAMMING LANGUAGE?\n",
    "#ANSWER:\"GUIDO VAN ROSSUM\""
   ]
  },
  {
   "cell_type": "code",
   "execution_count": 5,
   "id": "62c068ac",
   "metadata": {},
   "outputs": [],
   "source": [
    "#2.WHICH TYPE OF PROGRAMMING DOES PYTHON SUPPORT?\n",
    "#ANSWER: PYTHON SUPPORTS BOTH OBJECT-ORIENTED PROGRAMMING AND PROCEDURAL PROGRAMMING.\n"
   ]
  },
  {
   "cell_type": "code",
   "execution_count": 11,
   "id": "2128ec17",
   "metadata": {},
   "outputs": [],
   "source": [
    "#3.IS PYTHON CASE SENSITIVE WHEN DEALING WITH IDENTIFIERS?\n",
    "#ANSWER:'YES',PYTHON IS CASE SENSITIVE WHEN DEALING WITH IDENTIFIER.\n",
    "# EX:1. A_NAME=MALLIK RAO\n",
    "#    2. a_NAME=MALLIK RAO1,,,,THIS TWO VARIABLE NOT SAME.\n"
   ]
  },
  {
   "cell_type": "code",
   "execution_count": 9,
   "id": "51bb8e1d",
   "metadata": {},
   "outputs": [],
   "source": [
    "#4.WHAT IS THE CORRECT EXTENSION OF THE PYTHON FILE?\n",
    "#ANSWER:THE CORRECT EXTENSION OF THE PYTHON FILE IS \".PY\""
   ]
  },
  {
   "cell_type": "code",
   "execution_count": 12,
   "id": "ff87006f",
   "metadata": {},
   "outputs": [],
   "source": [
    "#5.IS PYTHON CODE COMPILED OR INTERPRETED?\n",
    "#ANSWER:PYTHON IS AN \"INTERPRETED LANGUAGE\"."
   ]
  },
  {
   "cell_type": "code",
   "execution_count": 13,
   "id": "a4282335",
   "metadata": {},
   "outputs": [],
   "source": [
    "#6.Name a few blocks of code used to define in python language?\n",
    "#ANSWER:1. Variables: Variables are used to store data and can be referenced by name.\n",
    "#      2. Control Flow Statements: Control flow statements are used to control the flow of execution in a program.\n",
    "#           Examples: include if, if-else statements, for loops, while loops, break and continue statements."
   ]
  },
  {
   "cell_type": "code",
   "execution_count": 2,
   "id": "d34c5b68",
   "metadata": {},
   "outputs": [],
   "source": [
    "#7.Name a few blocks of code used to define in python language?\n",
    "#ANSWER:1. Variables: \n",
    "#    my_variable = 10\n",
    "\n",
    "#2. If Statements: \n",
    "#    if my_variable == 10:\n",
    "#        print(\"my_variable is 10\")\n",
    "\n",
    "#3. For Loops: \n",
    "#    for i in range(10):\n",
    "#        print(i)\n"
   ]
  },
  {
   "cell_type": "code",
   "execution_count": 3,
   "id": "5a487a46",
   "metadata": {},
   "outputs": [],
   "source": [
    "#8.Mention function which can help us to find the version of python that we are currently working on?\n",
    "#ANSWER:The sys.version function can be used to find the version of Python that you are currently working on. It returns a string containing the version number of the Python interpreter."
   ]
  },
  {
   "cell_type": "code",
   "execution_count": null,
   "id": "ae065b5b",
   "metadata": {},
   "outputs": [],
   "source": [
    "#9.python supports the creation of anonymous functions at runtime using a construct called?\n",
    "#ANSWER: lambda"
   ]
  },
  {
   "cell_type": "code",
   "execution_count": 4,
   "id": "d32c205e",
   "metadata": {},
   "outputs": [],
   "source": [
    "#10.what does pip stand for python?\n",
    "#ANSWER:Pip stands for \"Pip Installs Packages\" and is a package management system used to install and manage software packages written in Python."
   ]
  },
  {
   "cell_type": "code",
   "execution_count": 5,
   "id": "d1ad0fac",
   "metadata": {},
   "outputs": [],
   "source": [
    "#11.Mention a few bulit in functions in python?\n",
    "#ANSWER:print(),len(),max(),min(),abs(),round(),sum()"
   ]
  },
  {
   "cell_type": "code",
   "execution_count": 6,
   "id": "717b5fab",
   "metadata": {},
   "outputs": [],
   "source": [
    "#12.what is the maximum possible length of an identifier in python?\n",
    "#ANSWER:unlimited."
   ]
  },
  {
   "cell_type": "code",
   "execution_count": 7,
   "id": "63b6babb",
   "metadata": {},
   "outputs": [],
   "source": [
    "#13.what are the benefits of using python?\n",
    "#ANSWER:\n",
    "#1. Easy to Learn and Use: Python is designed to be easy to read and simple to implement. This makes it a great first programming language to learn.\n",
    "# 2.High-Level Language: Python is a high-level language, meaning it abstracts away the details of the computer’s hardware\n"
   ]
  },
  {
   "cell_type": "code",
   "execution_count": 8,
   "id": "193676a0",
   "metadata": {},
   "outputs": [],
   "source": [
    "#14.how is memory managed in python?\n",
    "#ANSWER:\n",
    "#Python memory is managed by a private heap space. All Python objects and data structures are located in a private heap. The programmer does not have access to this private heap and interpreter takes care of this Python private heap. \n",
    "#The allocation of Python heap space for Python objects is done by the Python memory manager. The core API gives access to some tools for the programmer to code. Python also has an inbuilt garbage collector, \n",
    "#which recycles all the unused memory and frees the memory and makes it."
   ]
  },
  {
   "cell_type": "code",
   "execution_count": 9,
   "id": "6cd3d37e",
   "metadata": {},
   "outputs": [],
   "source": [
    "#15.how to install python on windows and set path variables?\n",
    "#ANSWER:\n",
    "#1. Download the Python installer from the official website: https://www.python.org/downloads/\n",
    "#2. Run the installer and follow the instructions to install Python on your Windows machine.\n",
    "#3. Once the installation is complete, open the command prompt and type “python” to check if Python is installed correctly.\n",
    "#4. To set the path variables, open the Control Panel and go to System and Security > System > Advanced system settings > Environment Variables.\n",
    "#5. Under System Variables, click New and add the path to the Python installation folder.\n",
    "#6. Click OK and you’re done!"
   ]
  },
  {
   "cell_type": "code",
   "execution_count": 10,
   "id": "4aaae663",
   "metadata": {},
   "outputs": [],
   "source": [
    "#16.is indentation required in python?\n",
    "#ANSWER:Yes, indentation is required in Python. Indentation is used to indicate a block of code. Without proper indentation, the code will not run correctly.\n"
   ]
  },
  {
   "cell_type": "code",
   "execution_count": null,
   "id": "7784aaa1",
   "metadata": {},
   "outputs": [],
   "source": []
  },
  {
   "cell_type": "code",
   "execution_count": null,
   "id": "96688ad3",
   "metadata": {},
   "outputs": [],
   "source": []
  },
  {
   "cell_type": "code",
   "execution_count": null,
   "id": "c9200572",
   "metadata": {},
   "outputs": [],
   "source": []
  }
 ],
 "metadata": {
  "kernelspec": {
   "display_name": "Python 3 (ipykernel)",
   "language": "python",
   "name": "python3"
  },
  "language_info": {
   "codemirror_mode": {
    "name": "ipython",
    "version": 3
   },
   "file_extension": ".py",
   "mimetype": "text/x-python",
   "name": "python",
   "nbconvert_exporter": "python",
   "pygments_lexer": "ipython3",
   "version": "3.9.13"
  }
 },
 "nbformat": 4,
 "nbformat_minor": 5
}
